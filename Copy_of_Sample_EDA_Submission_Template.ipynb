{
  "nbformat": 4,
  "nbformat_minor": 0,
  "metadata": {
    "colab": {
      "private_outputs": true,
      "provenance": [],
      "include_colab_link": true
    },
    "kernelspec": {
      "name": "python3",
      "display_name": "Python 3"
    },
    "language_info": {
      "name": "python"
    }
  },
  "cells": [
    {
      "cell_type": "markdown",
      "metadata": {
        "id": "view-in-github",
        "colab_type": "text"
      },
      "source": [
        "<a href=\"https://colab.research.google.com/github/121deepti/play-store-eda-project/blob/main/Copy_of_Sample_EDA_Submission_Template.ipynb\" target=\"_parent\"><img src=\"https://colab.research.google.com/assets/colab-badge.svg\" alt=\"Open In Colab\"/></a>"
      ]
    },
    {
      "cell_type": "markdown",
      "source": [
        "# **Project Name**    - Play Store App Review Analysis\n",
        "\n"
      ],
      "metadata": {
        "id": "vncDsAP0Gaoa"
      }
    },
    {
      "cell_type": "markdown",
      "source": [
        "##### **Project Type**    - EDA\n",
        "##### **Contribution**    - Individual\n"
      ],
      "metadata": {
        "id": "beRrZCGUAJYm"
      }
    },
    {
      "cell_type": "markdown",
      "source": [
        "# **Project Summary -**"
      ],
      "metadata": {
        "id": "FJNUwmbgGyua"
      }
    },
    {
      "cell_type": "markdown",
      "source": [
        "Write the summary here within 500-600 words."
      ],
      "metadata": {
        "id": "F6v_1wHtG2nS"
      }
    },
    {
      "cell_type": "markdown",
      "source": [
        "# **GitHub Link -**\n",
        "https://github.com/121deepti/play-store-eda-project"
      ],
      "metadata": {
        "id": "w6K7xa23Elo4"
      }
    },
    {
      "cell_type": "markdown",
      "source": [
        "# **Problem Statement**\n"
      ],
      "metadata": {
        "id": "yQaldy8SH6Dl"
      }
    },
    {
      "cell_type": "markdown",
      "source": [],
      "metadata": {
        "id": "DpeJGUA3kjGy"
      }
    },
    {
      "cell_type": "markdown",
      "source": [
        "#### **Define Your Business Objective?**"
      ],
      "metadata": {
        "id": "PH-0ReGfmX4f"
      }
    },
    {
      "cell_type": "markdown",
      "source": [
        "Answer Here."
      ],
      "metadata": {
        "id": "PhDvGCAqmjP1"
      }
    },
    {
      "cell_type": "markdown",
      "source": [
        "# **General Guidelines** : -  "
      ],
      "metadata": {
        "id": "mDgbUHAGgjLW"
      }
    },
    {
      "cell_type": "markdown",
      "source": [
        "1.   Well-structured, formatted, and commented code is required. \n",
        "2.   Exception Handling, Production Grade Code & Deployment Ready Code will be a plus. Those students will be awarded some additional credits. \n",
        "     \n",
        "     The additional credits will have advantages over other students during Star Student selection.\n",
        "       \n",
        "             [ Note: - Deployment Ready Code is defined as, the whole .ipynb notebook should be executable in one go\n",
        "                       without a single error logged. ]\n",
        "\n",
        "3.   Each and every logic should have proper comments.\n",
        "4. You may add as many number of charts you want. Make Sure for each and every chart the following format should be answered.\n",
        "        \n",
        "\n",
        "```\n",
        "# Chart visualization code\n",
        "```\n",
        "            \n",
        "\n",
        "*   Why did you pick the specific chart?\n",
        "*   What is/are the insight(s) found from the chart?\n",
        "* Will the gained insights help creating a positive business impact? \n",
        "Are there any insights that lead to negative growth? Justify with specific reason.\n",
        "\n",
        "5. You have to create at least 20 logical & meaningful charts having important insights.\n",
        "\n",
        "\n",
        "[ Hints : - Do the Vizualization in  a structured way while following \"UBM\" Rule. \n",
        "\n",
        "U - Univariate Analysis,\n",
        "\n",
        "B - Bivariate Analysis (Numerical - Categorical, Numerical - Numerical, Categorical - Categorical)\n",
        "\n",
        "M - Multivariate Analysis\n",
        " ]\n",
        "\n",
        "\n",
        "\n"
      ],
      "metadata": {
        "id": "ZrxVaUj-hHfC"
      }
    },
    {
      "cell_type": "markdown",
      "source": [
        "# ***Let's Begin !***"
      ],
      "metadata": {
        "id": "O_i_v8NEhb9l"
      }
    },
    {
      "cell_type": "markdown",
      "source": [
        "## ***1. Know Your Data***"
      ],
      "metadata": {
        "id": "HhfV-JJviCcP"
      }
    },
    {
      "cell_type": "markdown",
      "source": [
        "### Import Libraries"
      ],
      "metadata": {
        "id": "Y3lxredqlCYt"
      }
    },
    {
      "cell_type": "code",
      "source": [
        "# Import Libraries\n",
        "import pandas as pd\n",
        "import numpy as np\n",
        "import matplotlib.pyplot as plt\n",
        "%matplotlib inline\n",
        "import seaborn as sns\n",
        "import warnings\n",
        "warnings.filterwarnings('ignore')"
      ],
      "metadata": {
        "id": "M8Vqi-pPk-HR"
      },
      "execution_count": null,
      "outputs": []
    },
    {
      "cell_type": "code",
      "source": [
        "from google.colab import drive\n",
        "drive.mount('/content/drive')"
      ],
      "metadata": {
        "id": "C0vZSkXjplb7"
      },
      "execution_count": null,
      "outputs": []
    },
    {
      "cell_type": "markdown",
      "source": [
        "### Dataset Loading"
      ],
      "metadata": {
        "id": "3RnN4peoiCZX"
      }
    },
    {
      "cell_type": "code",
      "source": [
        "# Load Dataset\n",
        "play_store_df=pd.read_csv(\"/content/drive/MyDrive/my_data/Play Store Data.csv\")\n",
        "user_review_df=pd.read_csv(\"/content/drive/MyDrive/my_data/User Reviews.csv\")"
      ],
      "metadata": {
        "id": "4CkvbW_SlZ_R"
      },
      "execution_count": null,
      "outputs": []
    },
    {
      "cell_type": "markdown",
      "source": [
        "### Dataset First View"
      ],
      "metadata": {
        "id": "x71ZqKXriCWQ"
      }
    },
    {
      "cell_type": "code",
      "source": [
        "# Dataset First Look\n",
        "play_store_df.head()\n"
      ],
      "metadata": {
        "id": "LWNFOSvLl09H"
      },
      "execution_count": null,
      "outputs": []
    },
    {
      "cell_type": "code",
      "source": [
        "user_review_df.head(3)"
      ],
      "metadata": {
        "id": "T4OkV7fzWhi-"
      },
      "execution_count": null,
      "outputs": []
    },
    {
      "cell_type": "markdown",
      "source": [
        "### Dataset Rows & Columns count"
      ],
      "metadata": {
        "id": "7hBIi_osiCS2"
      }
    },
    {
      "cell_type": "code",
      "source": [
        "# Dataset Rows & Columns count\n",
        "play_store_df.shape"
      ],
      "metadata": {
        "id": "Kllu7SJgmLij"
      },
      "execution_count": null,
      "outputs": []
    },
    {
      "cell_type": "code",
      "source": [
        "user_review_df.shape"
      ],
      "metadata": {
        "id": "xk4nXSb-Wtuz"
      },
      "execution_count": null,
      "outputs": []
    },
    {
      "cell_type": "markdown",
      "source": [
        "### Dataset Information"
      ],
      "metadata": {
        "id": "JlHwYmJAmNHm"
      }
    },
    {
      "cell_type": "code",
      "source": [
        "# Dataset Info\n",
        "play_store_df.info()"
      ],
      "metadata": {
        "id": "e9hRXRi6meOf"
      },
      "execution_count": null,
      "outputs": []
    },
    {
      "cell_type": "code",
      "source": [
        "user_review_df.info()"
      ],
      "metadata": {
        "id": "yn5pJpXcWz4H"
      },
      "execution_count": null,
      "outputs": []
    },
    {
      "cell_type": "markdown",
      "source": [
        "#### Duplicate Values"
      ],
      "metadata": {
        "id": "35m5QtbWiB9F"
      }
    },
    {
      "cell_type": "code",
      "source": [
        "# Dataset Duplicate Value Count\n",
        "len(play_store_df[play_store_df.duplicated()])\n"
      ],
      "metadata": {
        "id": "1sLdpKYkmox0"
      },
      "execution_count": null,
      "outputs": []
    },
    {
      "cell_type": "code",
      "source": [
        "#Removing duplicate records by creating a copy of original data set\n",
        "play_store_df_copy=play_store_df[~play_store_df.duplicated()]\n",
        "play_store_df_copy.shape"
      ],
      "metadata": {
        "id": "7l6FRSQQY7Fb"
      },
      "execution_count": null,
      "outputs": []
    },
    {
      "cell_type": "code",
      "source": [
        "len(user_review_df[user_review_df.duplicated()])\n"
      ],
      "metadata": {
        "id": "76jKOF7lYq6Q"
      },
      "execution_count": null,
      "outputs": []
    },
    {
      "cell_type": "code",
      "source": [
        "#Removing duplicate records by creating a copy of original data set\n",
        "user_review_df_copy=user_review_df[~user_review_df.duplicated()]\n",
        "len(user_review_df_copy[user_review_df_copy.duplicated()])"
      ],
      "metadata": {
        "id": "doC4BjbDZhQK"
      },
      "execution_count": null,
      "outputs": []
    },
    {
      "cell_type": "code",
      "source": [
        "#Shape of new data frame\n",
        "play_store_df_copy.shape"
      ],
      "metadata": {
        "id": "k68Y-yBpyDGt"
      },
      "execution_count": null,
      "outputs": []
    },
    {
      "cell_type": "code",
      "source": [
        "user_review_df_copy.shape"
      ],
      "metadata": {
        "id": "KfwJrX39ZL2m"
      },
      "execution_count": null,
      "outputs": []
    },
    {
      "cell_type": "markdown",
      "source": [
        "#### Missing Values/Null Values"
      ],
      "metadata": {
        "id": "PoPl-ycgm1ru"
      }
    },
    {
      "cell_type": "code",
      "source": [
        "# Missing Values/Null Values Count\n",
        "print(play_store_df_copy.isnull().sum())"
      ],
      "metadata": {
        "id": "GgHWkxvamxVg"
      },
      "execution_count": null,
      "outputs": []
    },
    {
      "cell_type": "code",
      "source": [
        "# Visualizing the missing values\n",
        "# Checking Null Value by plotting Heatmap\n",
        "sns.heatmap(play_store_df_copy.isnull(), cbar=False)"
      ],
      "metadata": {
        "id": "3q5wnI3om9sJ"
      },
      "execution_count": null,
      "outputs": []
    },
    {
      "cell_type": "code",
      "source": [
        "play_store_df_copy.loc[play_store_df_copy.Rating.isna()]"
      ],
      "metadata": {
        "id": "nIFp_kR_fOWe"
      },
      "execution_count": null,
      "outputs": []
    },
    {
      "cell_type": "code",
      "source": [
        "#Repalcing Null values in rating column with the median value\n",
        "play_store_df_copy.Rating.fillna(play_store_df_copy.Rating.median(),inplace=True)"
      ],
      "metadata": {
        "id": "aGmMXuaUudgA"
      },
      "execution_count": null,
      "outputs": []
    },
    {
      "cell_type": "code",
      "source": [
        "sns.heatmap(user_review_df_copy.isnull(), cbar=False)"
      ],
      "metadata": {
        "id": "FLEjurF-agfu"
      },
      "execution_count": null,
      "outputs": []
    },
    {
      "cell_type": "code",
      "source": [
        "#Finding the indexes of rows which have null values\n",
        "index=user_review_df_copy.loc[user_review_df_copy.Translated_Review.isnull()& user_review_df_copy.Sentiment.isnull()& user_review_df_copy.Sentiment_Polarity.isnull()&user_review_df_copy.Sentiment_Subjectivity.isnull()].index\n",
        "user_review_df_copy.drop(index,inplace=True)\n",
        "user_review_df_copy.head()"
      ],
      "metadata": {
        "id": "2QfJGG9KeljC"
      },
      "execution_count": null,
      "outputs": []
    },
    {
      "cell_type": "code",
      "source": [
        "from zmq.constants import NULL\n",
        "#Removing rows which have 'Type','Content Rating', 'Current Ver' and'Android Ver' column values are null\n",
        "i=play_store_df_copy.loc[play_store_df_copy.Type.isnull() |play_store_df_copy['Content Rating'].isnull()| play_store_df_copy['Current Ver'].isnull() | play_store_df_copy['Android Ver'].isnull() ].index\n",
        "play_store_df_copy.drop(i,inplace=True)\n",
        "play_store_df_copy.head()"
      ],
      "metadata": {
        "id": "wDzlQ82HqFf8"
      },
      "execution_count": null,
      "outputs": []
    },
    {
      "cell_type": "markdown",
      "source": [
        "### What did you know about your dataset?"
      ],
      "metadata": {
        "id": "H0kj-8xxnORC"
      }
    },
    {
      "cell_type": "markdown",
      "source": [
        "There are two datasets are given:playstore data set and user review data set.The dataset of a playstore where we get differnt types of apps to install. Here we have numerous feature related to app like its rating,reviews and type etc.\n",
        "The user review data set has the information related to reviews like sentiments of review weather they are positive or negative.\n",
        "After the removal of duplicate records and treatment of null values ,now the shape of play store data set has 10358 rows and 13 columns while the user review data set has 29697 rows and 5 columns."
      ],
      "metadata": {
        "id": "gfoNAAC-nUe_"
      }
    },
    {
      "cell_type": "markdown",
      "source": [
        "## ***2. Understanding Your Variables***"
      ],
      "metadata": {
        "id": "nA9Y7ga8ng1Z"
      }
    },
    {
      "cell_type": "code",
      "source": [
        "# play_store Dataset Columns\n",
        "play_store_df_copy.columns"
      ],
      "metadata": {
        "id": "j7xfkqrt5Ag5"
      },
      "execution_count": null,
      "outputs": []
    },
    {
      "cell_type": "code",
      "source": [
        "# Dataset Describe\n",
        "play_store_df_copy.describe(include='all')"
      ],
      "metadata": {
        "id": "DnOaZdaE5Q5t"
      },
      "execution_count": null,
      "outputs": []
    },
    {
      "cell_type": "code",
      "source": [
        "# Dataset Describe\n",
        "user_review_df_copy.describe(include='all')"
      ],
      "metadata": {
        "id": "14FSlH-aJ0N3"
      },
      "execution_count": null,
      "outputs": []
    },
    {
      "cell_type": "code",
      "source": [
        "#Boxplot analysis\n",
        "play_store_df_copy.boxplot()"
      ],
      "metadata": {
        "id": "Fb5AxgUX1VvJ"
      },
      "execution_count": null,
      "outputs": []
    },
    {
      "cell_type": "code",
      "source": [
        "#Boxplot analysis\n",
        "user_review_df_copy.boxplot()"
      ],
      "metadata": {
        "id": "serIUCl3KBAk"
      },
      "execution_count": null,
      "outputs": []
    },
    {
      "cell_type": "markdown",
      "source": [
        "### Variables Description "
      ],
      "metadata": {
        "id": "PBTbrJXOngz2"
      }
    },
    {
      "cell_type": "markdown",
      "source": [
        "**Play store data set**\n",
        "1. App:Name of the app\n",
        "2. Category: App belongs to which category like family,Beauty and gaming etc.\n",
        "3. Rating:Average rating given to app\n",
        "4. Reviews:Reviews given by user for this app.\n",
        "5. Size:Size of the app.\n",
        "6. Installs: How many users have installed this app.\n",
        "7. Type:Type of app:free or paid\n",
        "8. Price: Price of App\n",
        "8. Content Rating: Contents of the app is feasible to which age group i.e.     Everyone,Teen, Mature 17+, Everyone 10+, Adults only 18+ or Unrated.\n",
        "9. Genres:Related to the field to which app belongs.\n",
        "10. Last Updated: The date when the app was last updated.\n",
        "11. Current Ver: Current version of the App.\n",
        "12. Android Ver: The minimum Android version required to run the App.\n",
        "**User review data set**\t\t\n",
        "1. App: Name of the app.\n",
        "2. Translated_Review:Contains the English translation of the review given by the user.\n",
        "3. Sentiment: Contain sentiment of the review i.e. positive,negative or neutral\n",
        "4. Sentiment_Polarity: Contain polarity of the sentiment (-1 to 1) i.e. -1 tends to negative 1 tends to postive trend.\n",
        "5. Sentiment_Subjectivity: Polarity of the sentiment of particular review with the sentiment of general public review. It also ranges (-1 to 1). Higher the polarity means closer to the genreal public opinion and vice versa.\n",
        " \n",
        "\n",
        "\n"
      ],
      "metadata": {
        "id": "aJV4KIxSnxay"
      }
    },
    {
      "cell_type": "code",
      "source": [
        "play_store_df_copy.info()\n",
        "user_review_df_copy.info()"
      ],
      "metadata": {
        "id": "9xce73kpuoxM"
      },
      "execution_count": null,
      "outputs": []
    },
    {
      "cell_type": "markdown",
      "source": [
        "##Correcting the data types and modify column values\n",
        "After analysing the data carefully we found some points under consideration:\n",
        "1. The 'size' column contain the value with M(megabyte) and k(kilobyte) so convert it to all M(megabyte) to impove futher calculations easier. It also contains value 'Varies with device' which is of no use and convert its data type to float.\n",
        "2. The 'installs' column has '+' and ','sign which should be removed to make it numeric and change data type to integer.\n",
        "3. Change the data type of 'review' column to numeric.\n",
        "4. Need to correct column 'Price' by removing $ and change its data type to float.\n",
        "5.'Last updated' column should be converted to date data type."
      ],
      "metadata": {
        "id": "OJEUl4XdueDN"
      }
    },
    {
      "cell_type": "code",
      "source": [
        "#Converting 'Size' column to numeric by removing 'M' and 'Varies with device'\n",
        "def correct_size(df):\n",
        "  if ',' in df.Size:\n",
        "    df.Size=df.Size.replace(',','')\n",
        "  if df.Size =='Varies with device':\n",
        "      df.Size=float(0)\n",
        "  elif 'M' in df.Size:\n",
        "       df.Size=df.Size.replace('M','')\n",
        "       #size_list.append(float(df.Size[0:-1]))\n",
        "  else:\n",
        "      df.Size=float(df.Size[0:-1])/1024\n",
        "  return df.Size "
      ],
      "metadata": {
        "id": "3fPjXQ6FuWah"
      },
      "execution_count": null,
      "outputs": []
    },
    {
      "cell_type": "code",
      "source": [
        "#Calling function 'correct_size to entire data frame\n",
        "play_store_df_copy['Size']=play_store_df_copy.apply(correct_size,axis=1)\n",
        "play_store_df_copy['Size']=play_store_df_copy['Size'].astype(float)"
      ],
      "metadata": {
        "id": "bvvEkq43ibd2"
      },
      "execution_count": null,
      "outputs": []
    },
    {
      "cell_type": "code",
      "source": [
        "#Making 'installs' column to numeric by removing '+' and ',' sign\n",
        "def correct_installs_rating(inst):\n",
        " if '+' in  inst:\n",
        "   inst=inst.replace('+', '')\n",
        " if ',' in inst:\n",
        "   inst=inst.replace(',','')\n",
        " return inst"
      ],
      "metadata": {
        "id": "DFm7egg7j-rA"
      },
      "execution_count": null,
      "outputs": []
    },
    {
      "cell_type": "code",
      "source": [
        "#Calling 'correct_installs_rating' function to 'Installs' column\n",
        "play_store_df_copy['Installs']=play_store_df_copy['Installs'].apply(correct_installs_rating)\n",
        "#converting the column data type to int.\n",
        "play_store_df_copy.Installs=play_store_df_copy.Installs.astype(int)"
      ],
      "metadata": {
        "id": "XTXRxFXwuqKG"
      },
      "execution_count": null,
      "outputs": []
    },
    {
      "cell_type": "code",
      "source": [
        "#Calling 'correct_installs_rating' function to 'Installs' column\n",
        "play_store_df_copy['Content Rating']=play_store_df_copy['Content Rating'].apply(correct_installs_rating)"
      ],
      "metadata": {
        "id": "0uCO9E-chI2b"
      },
      "execution_count": null,
      "outputs": []
    },
    {
      "cell_type": "code",
      "source": [
        "#Converting data type of 'reviews' column as int\n",
        "play_store_df_copy.Reviews=play_store_df_copy.Reviews.astype(int)"
      ],
      "metadata": {
        "id": "M1tLWlvLrMxn"
      },
      "execution_count": null,
      "outputs": []
    },
    {
      "cell_type": "code",
      "source": [
        "#Correcting column 'Price' by removing $ and change its data type to float\n",
        "for i,row in play_store_df_copy.iterrows():\n",
        "   if '$' in row['Price']:\n",
        "     play_store_df_copy.loc[i,'Price']=row['Price'].replace('$','')\n",
        "play_store_df_copy.Price=play_store_df_copy.Price.astype(float)"
      ],
      "metadata": {
        "id": "EqfTIriKx36X"
      },
      "execution_count": null,
      "outputs": []
    },
    {
      "cell_type": "code",
      "source": [
        "#Convert 'Last updated' column to date data type\n",
        "play_store_df_copy['Last Updated']= pd.to_datetime(play_store_df_copy['Last Updated'])"
      ],
      "metadata": {
        "id": "hgZM07FfvXkh"
      },
      "execution_count": null,
      "outputs": []
    },
    {
      "cell_type": "markdown",
      "source": [
        "### Check Unique Values for each variable."
      ],
      "metadata": {
        "id": "u3PMJOP6ngxN"
      }
    },
    {
      "cell_type": "code",
      "source": [
        "for i in play_store_df_copy.columns.tolist():\n",
        "  print(\"No. of unique values in \",i,\"is\",play_store_df_copy[i].nunique(),\".\")"
      ],
      "metadata": {
        "id": "ThS6xDi8C0UN"
      },
      "execution_count": null,
      "outputs": []
    },
    {
      "cell_type": "code",
      "source": [
        "# Check Unique Values for 'Category' column.\n",
        "play_store_df_copy.Category.unique()\n"
      ],
      "metadata": {
        "id": "zms12Yq5n-jE"
      },
      "execution_count": null,
      "outputs": []
    },
    {
      "cell_type": "markdown",
      "source": [
        "## 3. ***Data Wrangling***"
      ],
      "metadata": {
        "id": "dauF4eBmngu3"
      }
    },
    {
      "cell_type": "markdown",
      "source": [
        "### Data Wrangling Code"
      ],
      "metadata": {
        "id": "bKJF3rekwFvQ"
      }
    },
    {
      "cell_type": "code",
      "source": [
        "##Top 5 apps on the basis of install\n",
        "play_store_df_copy.groupby('App')['Installs'].sum().nlargest(5)\n"
      ],
      "metadata": {
        "id": "Slpvpa72BSoF"
      },
      "execution_count": null,
      "outputs": []
    },
    {
      "cell_type": "code",
      "source": [
        "##Top 5 reviewed apps\n",
        "play_store_df_copy.groupby('App')['Reviews'].sum().nlargest(5)"
      ],
      "metadata": {
        "id": "xcqIM3Y1zqGl"
      },
      "execution_count": null,
      "outputs": []
    },
    {
      "cell_type": "code",
      "source": [
        "##Top 5 expensive apps\n",
        "play_store_df_copy.groupby('App')['Price'].sum().nlargest(5)"
      ],
      "metadata": {
        "id": "eUIu-nKYz172"
      },
      "execution_count": null,
      "outputs": []
    },
    {
      "cell_type": "code",
      "source": [
        "##Top 3 most installed apps in particular category\n",
        "play_store_df_copy.groupby(['App','Category'])['Installs'].sum().nlargest(3)"
      ],
      "metadata": {
        "id": "xg0AnmtI0EIe"
      },
      "execution_count": null,
      "outputs": []
    },
    {
      "cell_type": "code",
      "source": [
        "##5 apps from the Family category are having lowest rating\n",
        "df_g = play_store_df_copy.query('Category==\"GAME\"')\n",
        "df_g.groupby('App')['Rating'].mean().sort_values().head(5)"
      ],
      "metadata": {
        "id": "8VD0POLQ0moy"
      },
      "execution_count": null,
      "outputs": []
    },
    {
      "cell_type": "code",
      "source": [
        "##Which top 5 categories of app have highest avg rating of reviews\n",
        "play_store_df_copy.groupby('Category')['Reviews'].mean().nlargest(5)"
      ],
      "metadata": {
        "id": "4DDwPhDN_UGh"
      },
      "execution_count": null,
      "outputs": []
    },
    {
      "cell_type": "code",
      "source": [
        "##Merging the play store df with user review df\n",
        "merged_df=pd.merge(play_store_df_copy,user_review_df_copy,on='App')\n",
        "merged_df"
      ],
      "metadata": {
        "id": "GgsqC3vyVyiS"
      },
      "execution_count": null,
      "outputs": []
    },
    {
      "cell_type": "code",
      "source": [
        "##Count the sentiment over type of app\n",
        "merged_df.groupby('Type')['Sentiment'].value_counts()"
      ],
      "metadata": {
        "id": "lK9Pnq-kBqiU"
      },
      "execution_count": null,
      "outputs": []
    },
    {
      "cell_type": "code",
      "source": [
        "##Difference between Sentiment polarity and Sentiment Subjectivity\n",
        "diff_df=user_review_df_copy.Sentiment_Subjectivity-user_review_df_copy.Sentiment_Polarity\n",
        "diff_df"
      ],
      "metadata": {
        "id": "oWbrqB_MJlyY"
      },
      "execution_count": null,
      "outputs": []
    },
    {
      "cell_type": "code",
      "source": [
        "#Find the number of installtions monthwise and yearwise\n",
        "play_store_df_copy.groupby([play_store_df_copy['Last Updated'].dt.year,play_store_df_copy['Last Updated'].dt.month])['Installs'].count()\n"
      ],
      "metadata": {
        "id": "Ps9UEAvjMyy5"
      },
      "execution_count": null,
      "outputs": []
    },
    {
      "cell_type": "markdown",
      "source": [
        "### What all manipulations have you done and insights you found?"
      ],
      "metadata": {
        "id": "MSa1f5Uengrz"
      }
    },
    {
      "cell_type": "markdown",
      "source": [
        "After analysing the columns values, the rating column has values between [0,5] so we create rating_category column i.e.[0-2] poor,[2-4]Avg,and[4 and above]Good.\n",
        "Finding the top5 apps based on rating,reviews,price,category,we came to know whch type of app is worth for future investment.\n",
        "We found the year and month of app update affect the number of installtions of app.\n",
        "We analysed that sentiment polarity is how much close to the sentiment subjectivity to know how valuable the review is.\n",
        "We also merged the user review data set with the play store data set to find the insights of sentiments regarding the reviews to take futher decisions."
      ],
      "metadata": {
        "id": "LbyXE7I1olp8"
      }
    },
    {
      "cell_type": "markdown",
      "source": [
        "## ***4. Data Vizualization, Storytelling & Experimenting with charts : Understand the relationships between variables***"
      ],
      "metadata": {
        "id": "GF8Ens_Soomf"
      }
    },
    {
      "cell_type": "markdown",
      "source": [
        "##Univariate Analysis"
      ],
      "metadata": {
        "id": "0wOQAZs5pc--"
      }
    },
    {
      "cell_type": "code",
      "source": [
        "#Chart #1\n",
        "#Find the count of app categories\n",
        "plt.figure(figsize=(10,5))\n",
        "ax=sns.countplot(x=\"Category\",data=play_store_df_copy)\n",
        "ax.bar_label(ax.containers[0])\n",
        "plt.xticks(rotation=90)\n",
        "plt.ylabel(\"Number of apps per Category\")\n",
        "plt.show"
      ],
      "metadata": {
        "id": "7v_ESjsspbW7"
      },
      "execution_count": null,
      "outputs": []
    },
    {
      "cell_type": "markdown",
      "source": [
        "##### 1. Why did you pick the specific chart?"
      ],
      "metadata": {
        "id": "K5QZ13OEpz2H"
      }
    },
    {
      "cell_type": "markdown",
      "source": [
        "I picked this chart as i want to find which category of app has most popular among public and which category has least popular.It helps in making future decisions."
      ],
      "metadata": {
        "id": "XESiWehPqBRc"
      }
    },
    {
      "cell_type": "markdown",
      "source": [
        "##### 2. What is/are the insight(s) found from the chart?\n"
      ],
      "metadata": {
        "id": "lQ7QKXXCp7Bj"
      }
    },
    {
      "cell_type": "markdown",
      "source": [
        "So, i came to know \"Family\" is the most popular category of app,around 1900 apps in this category and beauty,parenting,art & design,comics and events are the low priority app around 60 apps in these category."
      ],
      "metadata": {
        "id": "C_j1G7yiqdRP"
      }
    },
    {
      "cell_type": "markdown",
      "source": [
        "##### 3. Will the gained insights help creating a positive business impact? \n",
        "Are there any insights that lead to negative growth? Justify with specific reason."
      ],
      "metadata": {
        "id": "448CDAPjqfQr"
      }
    },
    {
      "cell_type": "markdown",
      "source": [
        "It helps investors to take decisions which category of app is worth investing."
      ],
      "metadata": {
        "id": "3cspy4FjqxJW"
      }
    },
    {
      "cell_type": "code",
      "source": [
        "#Chart #2\n",
        "#Find the count of Content rating\n",
        "plt.figure(figsize=(10,5))\n",
        "ax=sns.countplot(x=\"Content Rating\",data=play_store_df_copy)\n",
        "ax.bar_label(ax.containers[0])\n",
        "plt.xticks(rotation=90)\n",
        "plt.ylabel(\"Number of apps per content rating\")\n",
        "plt.show"
      ],
      "metadata": {
        "id": "znbnqeKnHBKn"
      },
      "execution_count": null,
      "outputs": []
    },
    {
      "cell_type": "markdown",
      "source": [
        "##### 1. Why did you pick the specific chart?"
      ],
      "metadata": {
        "id": "mBwvoowcKaZ-"
      }
    },
    {
      "cell_type": "markdown",
      "source": [
        "This chart helps in understanding content rating feature."
      ],
      "metadata": {
        "id": "-jP-EVQdKaZ-"
      }
    },
    {
      "cell_type": "markdown",
      "source": [
        "##### 2. What is/are the insight(s) found from the chart?"
      ],
      "metadata": {
        "id": "Y2WVe6kJKaZ_"
      }
    },
    {
      "cell_type": "markdown",
      "source": [
        "From this chart it is clearly visible that maximum apps has \"Everyone\" content rating i.e around 8300 while other categories of content rating has less number of apps."
      ],
      "metadata": {
        "id": "uVaBOK6KKaZ_"
      }
    },
    {
      "cell_type": "markdown",
      "source": [
        "##### 3. Will the gained insights help creating a positive business impact? \n",
        "Are there any insights that lead to negative growth? Justify with specific reason."
      ],
      "metadata": {
        "id": "mOOe_cV6KaZ_"
      }
    },
    {
      "cell_type": "markdown",
      "source": [
        "This chart gives the insight of targeting other age group cateogory of people eg. the contents should be more specific to 18+ category as it has very less content rating."
      ],
      "metadata": {
        "id": "NU-pDlQLKaaA"
      }
    },
    {
      "cell_type": "code",
      "source": [
        "#Chart #3\n",
        "# Bar chart for Free v/s paid apps\n",
        "type=play_store_df_copy.Type.value_counts()\n",
        "plt.figure(figsize=(8,8))\n",
        "labels = ['Free', 'Paid']\n",
        "plt.pie(type,labels=labels,autopct='%.2f%%')\n",
        "plt.legend()"
      ],
      "metadata": {
        "id": "KBY1yxH1N64X"
      },
      "execution_count": null,
      "outputs": []
    },
    {
      "cell_type": "markdown",
      "source": [
        "1.Why did you pick the specific chart?"
      ],
      "metadata": {
        "id": "hShtkOnmONSL"
      }
    },
    {
      "cell_type": "markdown",
      "source": [
        "I want to show distribution of free and paid app so i chose bar chart for this purpose."
      ],
      "metadata": {
        "id": "voE0Mj_1ONkb"
      }
    },
    {
      "cell_type": "markdown",
      "source": [
        "##### 2. What is/are the insight(s) found from the chart?"
      ],
      "metadata": {
        "id": "NG1btEvFONkb"
      }
    },
    {
      "cell_type": "markdown",
      "source": [
        "I get to know that only 7.37% apps are \"paid\" and rest are free apps."
      ],
      "metadata": {
        "id": "ue0P1wYFONkc"
      }
    },
    {
      "cell_type": "code",
      "source": [
        "#Chart #4\n",
        "#Distribution of app rating using histogram\n",
        "# plt.hist(x, bins=50)\n",
        "plt.gca().set(title=' Rating Frequency Histogram', ylabel='Frequency')\n",
        "plt.hist(play_store_df_copy.Rating)"
      ],
      "metadata": {
        "id": "aL595Gz_OyW6"
      },
      "execution_count": null,
      "outputs": []
    },
    {
      "cell_type": "markdown",
      "source": [
        "##### 1. Why did you pick the specific chart?"
      ],
      "metadata": {
        "id": "E6MkPsBcp1cl"
      }
    },
    {
      "cell_type": "markdown",
      "source": [
        "I wanted to show the range of \"rating\" column"
      ],
      "metadata": {
        "id": "V22bRsFWp1cl"
      }
    },
    {
      "cell_type": "markdown",
      "source": [
        "##### 2. What is/are the insight(s) found from the chart?"
      ],
      "metadata": {
        "id": "2cELzS2fp1cl"
      }
    },
    {
      "cell_type": "markdown",
      "source": [
        "Here we can say that most of the rating values lie between 4 and 5."
      ],
      "metadata": {
        "id": "ozQPc2_Ip1cl"
      }
    },
    {
      "cell_type": "markdown",
      "source": [
        "##### 3. Will the gained insights help creating a positive business impact? \n",
        "Are there any insights that lead to negative growth? Justify with specific reason."
      ],
      "metadata": {
        "id": "3MPXvC8up1cl"
      }
    },
    {
      "cell_type": "markdown",
      "source": [
        "Rating ensure the quality of app as it is measured by the end users so by looking it i can say that most of the apps conforms to the standard lying between 4 and 5 and rest should be improved."
      ],
      "metadata": {
        "id": "GL8l1tdLp1cl"
      }
    },
    {
      "cell_type": "markdown",
      "source": [
        "## Bivariate Analysis"
      ],
      "metadata": {
        "id": "bvtkQ9MuTZOx"
      }
    },
    {
      "cell_type": "code",
      "source": [
        "#Chart #1 find the avg reviews,installs per category\n",
        "category_df = play_store_df_copy.groupby('Category').mean().reset_index()\n",
        "fig, axes = plt.subplots(1, 2, figsize=(14, 6))\n",
        "axes[0].set_xticklabels(labels=category_df['Category'],rotation = 'vertical')\n",
        "axes[0].plot(category_df['Category'], category_df['Reviews'], 'r')\n",
        "axes[0].set_xlabel('Category')\n",
        "axes[0].set_ylabel('Reviews')\n",
        "axes[0].set_title('Reviews Per Category')\n",
        "axes[1].set_xticklabels(labels=category_df['Category'],rotation = 'vertical')\n",
        "axes[1].plot(category_df['Category'], category_df['Installs'], 'g')\n",
        "axes[1].set_xlabel('Category')\n",
        "axes[1].set_ylabel('Installs')\n",
        "axes[1].set_title('Installs Per Category')\n",
        "plt.tight_layout(pad=2)\n",
        "plt.show()"
      ],
      "metadata": {
        "id": "ef_C7WwMohVO"
      },
      "execution_count": null,
      "outputs": []
    },
    {
      "cell_type": "markdown",
      "source": [
        "##### 1. Why did you pick the specific chart?"
      ],
      "metadata": {
        "id": "ULG2mIw_ZkMA"
      }
    },
    {
      "cell_type": "markdown",
      "source": [
        "This chart helps in comparing categories of app based on avg number of reviews and number of installations."
      ],
      "metadata": {
        "id": "kvEmHa2iZkMB"
      }
    },
    {
      "cell_type": "markdown",
      "source": [
        "##### 2. What is/are the insight(s) found from the chart?"
      ],
      "metadata": {
        "id": "y7VPNioLZkMC"
      }
    },
    {
      "cell_type": "markdown",
      "source": [
        "After seeing both the charts,we can conclude that reviews and installs are giving symmetrical charts.\"Social\",\"Game\" and \"Communucation\" are the categories having high avg reviews as well as high rate of installations but some other categories have very low avg reviews and installs around 0 like Art_And_Design category."
      ],
      "metadata": {
        "id": "GLybHVvtZkMC"
      }
    },
    {
      "cell_type": "markdown",
      "source": [
        "##### 3. Will the gained insights help creating a positive business impact? \n",
        "Are there any insights that lead to negative growth? Justify with specific reason."
      ],
      "metadata": {
        "id": "o6o8Vh0FZkMD"
      }
    },
    {
      "cell_type": "markdown",
      "source": [
        "Reviews create the real image of app.If an app has less reviews new user will find it hard to trust on it,which is negative indicator for the business.Always try to encourage the users to give feeback in the form of reviews."
      ],
      "metadata": {
        "id": "Bds2TMeIZkME"
      }
    },
    {
      "cell_type": "code",
      "source": [
        "#Chart #2\n",
        "#Ratio of free v/s paid apps of various categories\n",
        "plt.rcParams['figure.figsize'] = (10, 6)\n",
        "play_store_df_copy.groupby(['Category', 'Type'])['Category'].count().unstack().plot(kind='bar', stacked=True)\n",
        "plt.title(\"Ratio of free apps to paid apps based on Category\" )\n",
        "plt.ylabel(\"Number of Apps Category\")\n"
      ],
      "metadata": {
        "id": "cgg_FnqrgCiJ"
      },
      "execution_count": null,
      "outputs": []
    },
    {
      "cell_type": "markdown",
      "source": [
        "##### 1. Why did you pick the specific chart?"
      ],
      "metadata": {
        "id": "zwRFcVIxRAkW"
      }
    },
    {
      "cell_type": "markdown",
      "source": [
        "This stacked bar chart shows the ratio of free v/s paid apps from all the categories."
      ],
      "metadata": {
        "id": "2mXMflP2RAkY"
      }
    },
    {
      "cell_type": "markdown",
      "source": [
        "##### 2. What is/are the insight(s) found from the chart?"
      ],
      "metadata": {
        "id": "z4bUpW4tRAkZ"
      }
    },
    {
      "cell_type": "markdown",
      "source": [
        "Here, we found that there are in each category number of free apps are more than paid apps."
      ],
      "metadata": {
        "id": "nOpJRD63RAkZ"
      }
    },
    {
      "cell_type": "markdown",
      "source": [
        "##### 3. Will the gained insights help creating a positive business impact? \n",
        "Are there any insights that lead to negative growth? Justify with specific reason."
      ],
      "metadata": {
        "id": "VZei-dSgRAka"
      }
    },
    {
      "cell_type": "markdown",
      "source": [
        "This chart gives the insights helpful for future development of apps."
      ],
      "metadata": {
        "id": "0xGRlZFrR4cA"
      }
    },
    {
      "cell_type": "code",
      "source": [
        "#Chart #3 Avg Price per Category\n",
        "g=play_store_df_copy.groupby(['Category'])['Price'].mean()\n",
        "plt.rcParams['figure.figsize'] = (12, 8)\n",
        "g.plot.bar()\n",
        "plt.title(\"Avg Price per Category\" )\n",
        "plt.ylabel(\"Avg Price\")\n"
      ],
      "metadata": {
        "id": "GC7R9bDERze3"
      },
      "execution_count": null,
      "outputs": []
    },
    {
      "cell_type": "markdown",
      "source": [
        "##### 1. Why did you pick the specific chart?"
      ],
      "metadata": {
        "id": "s_Wgg1mNUnT4"
      }
    },
    {
      "cell_type": "markdown",
      "source": [
        "This chart compares the data of Price of categories of apps ."
      ],
      "metadata": {
        "id": "SBaG9MISUnT5"
      }
    },
    {
      "cell_type": "markdown",
      "source": [
        "##### 2. What is/are the insight(s) found from the chart?"
      ],
      "metadata": {
        "id": "eA34nRWpUnT6"
      }
    },
    {
      "cell_type": "markdown",
      "source": [
        "\"Finance\" category has avg price of around 8 which is highest one.\"Lifestyle\" category has good avg price around 6 but some categories have around 0 avg price."
      ],
      "metadata": {
        "id": "4wW85TEiUnT6"
      }
    },
    {
      "cell_type": "markdown",
      "source": [
        "##### 3. Will the gained insights help creating a positive business impact? \n",
        "Are there any insights that lead to negative growth? Justify with specific reason."
      ],
      "metadata": {
        "id": "g3624cjYUnT7"
      }
    },
    {
      "cell_type": "markdown",
      "source": [
        "This insight helps the app developer the scope for paid app development like \"Finance\" is the highest paid app development category. "
      ],
      "metadata": {
        "id": "IbSWVMlSUnT7"
      }
    },
    {
      "cell_type": "code",
      "source": [
        "# Chart #4 Category vs Content Rating\n",
        "plt.rcParams['figure.figsize'] = (15, 8)\n",
        "play_store_df_copy.groupby(['Category','Content Rating'])['Content Rating'].count().unstack().plot(kind='bar', stacked=True)\n",
        "plt.title(\"Content Rating of Apps based on Category\" )\n",
        "plt.ylabel(\"Content Rating\")\n"
      ],
      "metadata": {
        "id": "y4OoJ_F-WY_q"
      },
      "execution_count": null,
      "outputs": []
    },
    {
      "cell_type": "markdown",
      "source": [
        "##### 1. Why did you pick the specific chart?"
      ],
      "metadata": {
        "id": "7PutifTyxbU_"
      }
    },
    {
      "cell_type": "markdown",
      "source": [
        "This chart shows the comparision among content rating of apps according to the categories of app."
      ],
      "metadata": {
        "id": "IPjxk_nBxbVA"
      }
    },
    {
      "cell_type": "markdown",
      "source": [
        "##### 2. What is/are the insight(s) found from the chart?"
      ],
      "metadata": {
        "id": "vNC79iipxbVB"
      }
    },
    {
      "cell_type": "markdown",
      "source": [
        "Most of the Categories have contents that are meant for \"Everyone\" and \"Teen\" while contents for \"Everyone 10\" is very less."
      ],
      "metadata": {
        "id": "DI6re5v-xbVC"
      }
    },
    {
      "cell_type": "markdown",
      "source": [
        "##### 3. Will the gained insights help creating a positive business impact? \n",
        "Are there any insights that lead to negative growth? Justify with specific reason."
      ],
      "metadata": {
        "id": "8Iubqk4kxbVC"
      }
    },
    {
      "cell_type": "markdown",
      "source": [
        "There is a need for more content development for specific age group like \"adults only 18\" so that each age group get more variety of contents that can attract more installtions."
      ],
      "metadata": {
        "id": "3dinWwywxbVD"
      }
    },
    {
      "cell_type": "code",
      "source": [
        "#Chart #5\n",
        "y=play_store_df_copy.groupby([play_store_df_copy['Last Updated'].dt.year,play_store_df_copy['Last Updated'].dt.month_name()])['Installs'].mean().unstack()\n",
        "y=y.loc[y.index>=2015]#analysing only last 4 years records\n",
        "plt.rcParams['figure.figsize'] = (15, 8)\n",
        "y.plot.bar(stacked=True)\n",
        "plt.title(\"Number of Installs monthly as well as yearly basis\" )\n",
        "plt.ylabel(\"Avg Installs\")\n",
        "plt.legend(title=\"Months\")"
      ],
      "metadata": {
        "id": "Xq31uXx0enFY"
      },
      "execution_count": null,
      "outputs": []
    },
    {
      "cell_type": "markdown",
      "source": [
        "##### 1. Why did you pick the specific chart?"
      ],
      "metadata": {
        "id": "OJqmUmwBPlSs"
      }
    },
    {
      "cell_type": "markdown",
      "source": [
        "This chart shows the comparision among installations of apps according to the app lastly updated. "
      ],
      "metadata": {
        "id": "z4Y_TOAZPlSt"
      }
    },
    {
      "cell_type": "markdown",
      "source": [
        "##### 2. What is/are the insight(s) found from the chart?"
      ],
      "metadata": {
        "id": "0FbCu4TDPlSu"
      }
    },
    {
      "cell_type": "markdown",
      "source": [
        "As the app is recently updated it leads to more installtions but those apps that are updated a long time ago have less installs. "
      ],
      "metadata": {
        "id": "jG49uqp5PlSv"
      }
    },
    {
      "cell_type": "markdown",
      "source": [
        "##### 3. Will the gained insights help creating a positive business impact? \n",
        "Are there any insights that lead to negative growth? Justify with specific reason."
      ],
      "metadata": {
        "id": "M07KSafKPlSv"
      }
    },
    {
      "cell_type": "markdown",
      "source": [
        "Apps should be updated regularly to promote apps installtions otherwise outdated apps will be not the choice of public."
      ],
      "metadata": {
        "id": "EE2IDMZAPlSw"
      }
    },
    {
      "cell_type": "code",
      "source": [
        "#Chart #11\n",
        "#Content rating v/s Size\n",
        "g=play_store_df_copy.groupby('Content Rating')['Size'].mean()\n",
        "plt.rcParams['figure.figsize'] = (15, 8)\n",
        "ax=g.plot.bar()\n",
        "plt.title(\"Size of Apps based on Content Rating \" )\n",
        "plt.ylabel(\"Size Of App\")"
      ],
      "metadata": {
        "id": "8WCCnDQ8ZuSG"
      },
      "execution_count": null,
      "outputs": []
    },
    {
      "cell_type": "markdown",
      "source": [
        "##### 1. Why did you pick the specific chart?"
      ],
      "metadata": {
        "id": "t6dVpIINYklI"
      }
    },
    {
      "cell_type": "markdown",
      "source": [
        "I chose that bar chart as i am interested to compare size of app under different age group."
      ],
      "metadata": {
        "id": "5aaW0BYyYklI"
      }
    },
    {
      "cell_type": "markdown",
      "source": [
        "##### 2. What is/are the insight(s) found from the chart?"
      ],
      "metadata": {
        "id": "ijmpgYnKYklI"
      }
    },
    {
      "cell_type": "markdown",
      "source": [
        "Looking at the chart i came to know that contents target to age 10 and above having large size while contents for age 18+ has less sized apps. "
      ],
      "metadata": {
        "id": "PSx9atu2YklI"
      }
    },
    {
      "cell_type": "markdown",
      "source": [
        "##### 3. Will the gained insights help creating a positive business impact? \n",
        "Are there any insights that lead to negative growth? Justify with specific reason."
      ],
      "metadata": {
        "id": "-JiQyfWJYklI"
      }
    },
    {
      "cell_type": "markdown",
      "source": [
        "As we have seen that Larger the app size means more features that leads to more installtions that leads to business growth."
      ],
      "metadata": {
        "id": "BcBbebzrYklV"
      }
    },
    {
      "cell_type": "code",
      "source": [
        "#chart #12\n",
        "g=play_store_df_copy.groupby('Content Rating')['Installs'].mean()\n",
        "plt.rcParams['figure.figsize'] = (15, 8)\n",
        "ax=g.plot.bar()\n",
        "plt.title(\"Installations of Apps based on Content Rating \" )\n",
        "plt.ylabel(\"Num of Installtions\")\n"
      ],
      "metadata": {
        "id": "sqIJmVUccECu"
      },
      "execution_count": null,
      "outputs": []
    },
    {
      "cell_type": "markdown",
      "source": [
        "##### 1. Why did you pick the specific chart?"
      ],
      "metadata": {
        "id": "mbY5Gp0YdbEi"
      }
    },
    {
      "cell_type": "markdown",
      "source": [
        "I chose that bar chart as i am interested to compare number of installations of app under different age group."
      ],
      "metadata": {
        "id": "dqYh2HdRdbEk"
      }
    },
    {
      "cell_type": "markdown",
      "source": [
        "##### 2. What is/are the insight(s) found from the chart?"
      ],
      "metadata": {
        "id": "1cj7gKjgdbEk"
      }
    },
    {
      "cell_type": "markdown",
      "source": [
        "Looking at the chart i came to know that contents target to age 10 and above having highest num of installtions while contents for age 18+ has less num of installtions. "
      ],
      "metadata": {
        "id": "pasB7fN5dbEl"
      }
    },
    {
      "cell_type": "markdown",
      "source": [
        "##### 3. Will the gained insights help creating a positive business impact? \n",
        "Are there any insights that lead to negative growth? Justify with specific reason."
      ],
      "metadata": {
        "id": "LgslBMqfdbEl"
      }
    },
    {
      "cell_type": "markdown",
      "source": [
        "Play store business always have target of increasing the installtions of app so futher anaysis is needed in areas that have low rate of installtions."
      ],
      "metadata": {
        "id": "F4QsPKw8dbEm"
      }
    },
    {
      "cell_type": "code",
      "source": [
        "# plot the graphs of reviews, size, installs and price per content rating\n",
        "rating_df = play_store_df_copy.groupby('Content Rating').mean().reset_index()\n",
        "fig, axes = plt.subplots(1, 3, figsize=(14, 4))\n",
        "axes[0].set_xticklabels(labels=rating_df['Content Rating'],rotation = 50)\n",
        "axes[0].plot(rating_df['Content Rating'], rating_df['Reviews'], 'r')\n",
        "axes[0].set_xlabel('Content Rating')\n",
        "axes[0].set_ylabel('Reviews')\n",
        "axes[0].set_title('Reviews Per Content Rating')\n",
        "axes[1].set_xticklabels(labels=rating_df['Content Rating'],rotation = 50)\n",
        "axes[1].plot(rating_df['Content Rating'], rating_df['Size'], 'g')\n",
        "axes[1].set_xlabel('Content Rating')\n",
        "axes[1].set_ylabel('Size')\n",
        "axes[1].set_title('Size Per Content Rating')\n",
        "axes[2].set_xticklabels(labels=rating_df['Content Rating'],rotation = 50)\n",
        "axes[2].plot(rating_df['Content Rating'], rating_df['Installs'], 'g')\n",
        "axes[2].set_xlabel('Content Rating')\n",
        "axes[2].set_ylabel('Installs')\n",
        "axes[2].set_title('Installs Per Content Rating')\n",
        "plt.tight_layout(pad=2)\n",
        "plt.show()"
      ],
      "metadata": {
        "id": "1OI2tSXKkPoo"
      },
      "execution_count": null,
      "outputs": []
    },
    {
      "cell_type": "code",
      "source": [
        "#Chart #13\n",
        "#Ratio of free v/s paid apps of various content rating\n",
        "g=play_store_df_copy.groupby(['Content Rating', 'Type'])['Content Rating'].count().unstack()\n",
        "plt.rcParams['figure.figsize'] = (10, 5)\n",
        "plt.subplot(1,2,1)\n",
        "plt.title(\"Ratio of free apps to paid apps based on Category\" )\n",
        "plt.ylabel(\"Number of Apps Category\")\n",
        "g.plot.bar()\n",
        "\n",
        "g=play_store_df_copy.groupby('Content Rating')['Price'].mean()\n",
        "plt.subplot(1,2,2)\n",
        "plt.rcParams['figure.figsize'] = (15, 8)\n",
        "g.plot.bar()\n",
        "plt.title(\"Installations of Apps based on Content Rating \" )\n",
        "plt.ylabel(\"Num of Installtions\")\n",
        "plt.show()\n",
        "\n"
      ],
      "metadata": {
        "id": "MbFCzM_Qee46"
      },
      "execution_count": null,
      "outputs": []
    },
    {
      "cell_type": "code",
      "source": [
        "#Chart #14\n",
        "\n",
        "g=play_store_df_copy.groupby('Content Rating')['Price'].mean()\n",
        "plt.rcParams['figure.figsize'] = (15, 8)\n",
        "ax=g.plot.bar()\n",
        "plt.title(\"Installations of Apps based on Content Rating \" )\n",
        "plt.ylabel(\"Num of Installtions\")\n"
      ],
      "metadata": {
        "id": "aCjZn_z7fn1K"
      },
      "execution_count": null,
      "outputs": []
    },
    {
      "cell_type": "markdown",
      "source": [
        "#### Chart - 3"
      ],
      "metadata": {
        "id": "EM7whBJCYoAo"
      }
    },
    {
      "cell_type": "code",
      "source": [
        "#find number of insatalls per category\n",
        "category_grp=play_store_df_copy.groupby(\"Category\")[\"Installs\"].count()"
      ],
      "metadata": {
        "id": "N6Ji0mbAAArE"
      },
      "execution_count": null,
      "outputs": []
    },
    {
      "cell_type": "code",
      "source": [
        "plt.rcParams['figure.figsize'] = (10, 5)\n",
        "plt.ylabel(\"Installtions\")\n",
        "plt.title(\"Installtions based on Category\" )\n",
        "category_grp.plot.bar()\n"
      ],
      "metadata": {
        "id": "ejXHM1SkGHwt"
      },
      "execution_count": null,
      "outputs": []
    },
    {
      "cell_type": "markdown",
      "source": [
        "##### 1. Why did you pick the specific chart?"
      ],
      "metadata": {
        "id": "iky9q4vBYrdO"
      }
    },
    {
      "cell_type": "markdown",
      "source": [
        "I just wanted to know that increasing size of app incereasing/decreasing its rating ."
      ],
      "metadata": {
        "id": "aJRCwT6DYrdO"
      }
    },
    {
      "cell_type": "markdown",
      "source": [
        "##### 2. What is/are the insight(s) found from the chart?"
      ],
      "metadata": {
        "id": "F6T5p64dYrdO"
      }
    },
    {
      "cell_type": "markdown",
      "source": [
        "From the above chart, it is clear that as the size of app increased its rating is also improved that means large size app has more features that influence the target public."
      ],
      "metadata": {
        "id": "Xx8WAJvtYrdO"
      }
    },
    {
      "cell_type": "markdown",
      "source": [
        "##### 3. Will the gained insights help creating a positive business impact? \n",
        "Are there any insights that lead to negative growth? Justify with specific reason."
      ],
      "metadata": {
        "id": "y-Ehk30pYrdP"
      }
    },
    {
      "cell_type": "markdown",
      "source": [
        "Small sized app having low populartiy while large size having high rating that is a indicator to the app developers to work to find the shortcomings of size related issues."
      ],
      "metadata": {
        "id": "jLNxxz7MYrdP"
      }
    },
    {
      "cell_type": "markdown",
      "source": [
        "#### Chart - 5"
      ],
      "metadata": {
        "id": "bamQiAODYuh1"
      }
    },
    {
      "cell_type": "markdown",
      "source": [
        "I want to show distribution of free and paid app so i chose bar chart for this purpose."
      ],
      "metadata": {
        "id": "8pgikixQIcUf"
      }
    },
    {
      "cell_type": "markdown",
      "source": [
        "##### 2. What is/are the insight(s) found from the chart?"
      ],
      "metadata": {
        "id": "GwzvFGzlYuh3"
      }
    },
    {
      "cell_type": "markdown",
      "source": [
        "I get to know that only 7.37% apps are \"paid\" and rest are free apps."
      ],
      "metadata": {
        "id": "uyqkiB8YYuh3"
      }
    },
    {
      "cell_type": "markdown",
      "source": [
        "##### 3. Will the gained insights help creating a positive business impact? \n",
        "Are there any insights that lead to negative growth? Justify with specific reason."
      ],
      "metadata": {
        "id": "qYpmQ266Yuh3"
      }
    },
    {
      "cell_type": "markdown",
      "source": [],
      "metadata": {
        "id": "_WtzZ_hCYuh4"
      }
    },
    {
      "cell_type": "markdown",
      "source": [
        "#### Chart - 6"
      ],
      "metadata": {
        "id": "OH-pJp9IphqM"
      }
    },
    {
      "cell_type": "code",
      "source": [
        "# Chart - 6 visualization code"
      ],
      "metadata": {
        "id": "kuRf4wtuphqN"
      },
      "execution_count": null,
      "outputs": []
    },
    {
      "cell_type": "markdown",
      "source": [
        "##### 1. Why did you pick the specific chart?"
      ],
      "metadata": {
        "id": "bbFf2-_FphqN"
      }
    },
    {
      "cell_type": "markdown",
      "source": [
        "Answer Here."
      ],
      "metadata": {
        "id": "loh7H2nzphqN"
      }
    },
    {
      "cell_type": "markdown",
      "source": [
        "##### 2. What is/are the insight(s) found from the chart?"
      ],
      "metadata": {
        "id": "_ouA3fa0phqN"
      }
    },
    {
      "cell_type": "markdown",
      "source": [
        "Answer Here"
      ],
      "metadata": {
        "id": "VECbqPI7phqN"
      }
    },
    {
      "cell_type": "markdown",
      "source": [
        "##### 3. Will the gained insights help creating a positive business impact? \n",
        "Are there any insights that lead to negative growth? Justify with specific reason."
      ],
      "metadata": {
        "id": "Seke61FWphqN"
      }
    },
    {
      "cell_type": "markdown",
      "source": [
        "Answer Here"
      ],
      "metadata": {
        "id": "DW4_bGpfphqN"
      }
    },
    {
      "cell_type": "markdown",
      "source": [
        "#### Chart - 7"
      ],
      "metadata": {
        "id": "PIIx-8_IphqN"
      }
    },
    {
      "cell_type": "code",
      "source": [
        "# Chart - 7 visualization code"
      ],
      "metadata": {
        "id": "lqAIGUfyphqO"
      },
      "execution_count": null,
      "outputs": []
    },
    {
      "cell_type": "markdown",
      "source": [
        "##### 1. Why did you pick the specific chart?"
      ],
      "metadata": {
        "id": "t27r6nlMphqO"
      }
    },
    {
      "cell_type": "markdown",
      "source": [
        "Answer Here."
      ],
      "metadata": {
        "id": "iv6ro40sphqO"
      }
    },
    {
      "cell_type": "markdown",
      "source": [
        "##### 2. What is/are the insight(s) found from the chart?"
      ],
      "metadata": {
        "id": "r2jJGEOYphqO"
      }
    },
    {
      "cell_type": "markdown",
      "source": [
        "Answer Here"
      ],
      "metadata": {
        "id": "Po6ZPi4hphqO"
      }
    },
    {
      "cell_type": "markdown",
      "source": [
        "##### 3. Will the gained insights help creating a positive business impact? \n",
        "Are there any insights that lead to negative growth? Justify with specific reason."
      ],
      "metadata": {
        "id": "b0JNsNcRphqO"
      }
    },
    {
      "cell_type": "markdown",
      "source": [
        "Answer Here"
      ],
      "metadata": {
        "id": "xvSq8iUTphqO"
      }
    },
    {
      "cell_type": "markdown",
      "source": [
        "#### Chart - 8"
      ],
      "metadata": {
        "id": "BZR9WyysphqO"
      }
    },
    {
      "cell_type": "code",
      "source": [
        "# Chart - 8 visualization code"
      ],
      "metadata": {
        "id": "TdPTWpAVphqO"
      },
      "execution_count": null,
      "outputs": []
    },
    {
      "cell_type": "markdown",
      "source": [
        "##### 1. Why did you pick the specific chart?"
      ],
      "metadata": {
        "id": "jj7wYXLtphqO"
      }
    },
    {
      "cell_type": "markdown",
      "source": [
        "Answer Here."
      ],
      "metadata": {
        "id": "Ob8u6rCTphqO"
      }
    },
    {
      "cell_type": "markdown",
      "source": [
        "##### 2. What is/are the insight(s) found from the chart?"
      ],
      "metadata": {
        "id": "eZrbJ2SmphqO"
      }
    },
    {
      "cell_type": "markdown",
      "source": [
        "Answer Here"
      ],
      "metadata": {
        "id": "mZtgC_hjphqO"
      }
    },
    {
      "cell_type": "markdown",
      "source": [
        "##### 3. Will the gained insights help creating a positive business impact? \n",
        "Are there any insights that lead to negative growth? Justify with specific reason."
      ],
      "metadata": {
        "id": "rFu4xreNphqO"
      }
    },
    {
      "cell_type": "markdown",
      "source": [
        "Answer Here"
      ],
      "metadata": {
        "id": "ey_0qi68phqO"
      }
    },
    {
      "cell_type": "markdown",
      "source": [
        "#### Chart - 9"
      ],
      "metadata": {
        "id": "YJ55k-q6phqO"
      }
    },
    {
      "cell_type": "code",
      "source": [
        "# Chart - 9 visualization code"
      ],
      "metadata": {
        "id": "B2aS4O1ophqO"
      },
      "execution_count": null,
      "outputs": []
    },
    {
      "cell_type": "markdown",
      "source": [
        "##### 1. Why did you pick the specific chart?"
      ],
      "metadata": {
        "id": "gCFgpxoyphqP"
      }
    },
    {
      "cell_type": "markdown",
      "source": [
        "Answer Here."
      ],
      "metadata": {
        "id": "TVxDimi2phqP"
      }
    },
    {
      "cell_type": "markdown",
      "source": [
        "##### 2. What is/are the insight(s) found from the chart?"
      ],
      "metadata": {
        "id": "OVtJsKN_phqQ"
      }
    },
    {
      "cell_type": "markdown",
      "source": [
        "Answer Here"
      ],
      "metadata": {
        "id": "ngGi97qjphqQ"
      }
    },
    {
      "cell_type": "markdown",
      "source": [
        "##### 3. Will the gained insights help creating a positive business impact? \n",
        "Are there any insights that lead to negative growth? Justify with specific reason."
      ],
      "metadata": {
        "id": "lssrdh5qphqQ"
      }
    },
    {
      "cell_type": "markdown",
      "source": [
        "Answer Here"
      ],
      "metadata": {
        "id": "tBpY5ekJphqQ"
      }
    },
    {
      "cell_type": "markdown",
      "source": [
        "#### Chart - 10"
      ],
      "metadata": {
        "id": "U2RJ9gkRphqQ"
      }
    },
    {
      "cell_type": "code",
      "source": [
        "# Chart - 10 visualization code"
      ],
      "metadata": {
        "id": "GM7a4YP4phqQ"
      },
      "execution_count": null,
      "outputs": []
    },
    {
      "cell_type": "markdown",
      "source": [
        "##### 1. Why did you pick the specific chart?"
      ],
      "metadata": {
        "id": "1M8mcRywphqQ"
      }
    },
    {
      "cell_type": "markdown",
      "source": [
        "Answer Here."
      ],
      "metadata": {
        "id": "8agQvks0phqQ"
      }
    },
    {
      "cell_type": "markdown",
      "source": [
        "##### 2. What is/are the insight(s) found from the chart?"
      ],
      "metadata": {
        "id": "tgIPom80phqQ"
      }
    },
    {
      "cell_type": "markdown",
      "source": [
        "Answer Here"
      ],
      "metadata": {
        "id": "Qp13pnNzphqQ"
      }
    },
    {
      "cell_type": "markdown",
      "source": [
        "##### 3. Will the gained insights help creating a positive business impact? \n",
        "Are there any insights that lead to negative growth? Justify with specific reason."
      ],
      "metadata": {
        "id": "JMzcOPDDphqR"
      }
    },
    {
      "cell_type": "markdown",
      "source": [
        "Answer Here"
      ],
      "metadata": {
        "id": "R4Ka1PC2phqR"
      }
    },
    {
      "cell_type": "markdown",
      "source": [
        "#### Chart - 11"
      ],
      "metadata": {
        "id": "x-EpHcCOp1ci"
      }
    },
    {
      "cell_type": "code",
      "source": [
        "# Chart - 11 visualization code"
      ],
      "metadata": {
        "id": "mAQTIvtqp1cj"
      },
      "execution_count": null,
      "outputs": []
    },
    {
      "cell_type": "markdown",
      "source": [
        "##### 1. Why did you pick the specific chart?"
      ],
      "metadata": {
        "id": "X_VqEhTip1ck"
      }
    },
    {
      "cell_type": "markdown",
      "source": [
        "Answer Here."
      ],
      "metadata": {
        "id": "-vsMzt_np1ck"
      }
    },
    {
      "cell_type": "markdown",
      "source": [
        "##### 2. What is/are the insight(s) found from the chart?"
      ],
      "metadata": {
        "id": "8zGJKyg5p1ck"
      }
    },
    {
      "cell_type": "markdown",
      "source": [
        "Answer Here"
      ],
      "metadata": {
        "id": "ZYdMsrqVp1ck"
      }
    },
    {
      "cell_type": "markdown",
      "source": [
        "##### 3. Will the gained insights help creating a positive business impact? \n",
        "Are there any insights that lead to negative growth? Justify with specific reason."
      ],
      "metadata": {
        "id": "PVzmfK_Ep1ck"
      }
    },
    {
      "cell_type": "markdown",
      "source": [
        "Answer Here"
      ],
      "metadata": {
        "id": "druuKYZpp1ck"
      }
    },
    {
      "cell_type": "markdown",
      "source": [
        "#### Chart - 12"
      ],
      "metadata": {
        "id": "n3dbpmDWp1ck"
      }
    },
    {
      "cell_type": "code",
      "source": [
        "# Chart - 12 visualization code"
      ],
      "metadata": {
        "id": "bwevp1tKp1ck"
      },
      "execution_count": null,
      "outputs": []
    },
    {
      "cell_type": "markdown",
      "source": [
        "##### 1. Why did you pick the specific chart?"
      ],
      "metadata": {
        "id": "ylSl6qgtp1ck"
      }
    },
    {
      "cell_type": "markdown",
      "source": [
        "Answer Here."
      ],
      "metadata": {
        "id": "m2xqNkiQp1ck"
      }
    },
    {
      "cell_type": "markdown",
      "source": [
        "##### 2. What is/are the insight(s) found from the chart?"
      ],
      "metadata": {
        "id": "ZWILFDl5p1ck"
      }
    },
    {
      "cell_type": "markdown",
      "source": [
        "Answer Here"
      ],
      "metadata": {
        "id": "x-lUsV2mp1ck"
      }
    },
    {
      "cell_type": "markdown",
      "source": [
        "##### 3. Will the gained insights help creating a positive business impact? \n",
        "Are there any insights that lead to negative growth? Justify with specific reason."
      ],
      "metadata": {
        "id": "M7G43BXep1ck"
      }
    },
    {
      "cell_type": "markdown",
      "source": [
        "Answer Here"
      ],
      "metadata": {
        "id": "5wwDJXsLp1cl"
      }
    },
    {
      "cell_type": "markdown",
      "source": [
        "#### Chart - 13"
      ],
      "metadata": {
        "id": "Ag9LCva-p1cl"
      }
    },
    {
      "cell_type": "code",
      "source": [],
      "metadata": {
        "id": "EUfxeq9-p1cl"
      },
      "execution_count": null,
      "outputs": []
    },
    {
      "cell_type": "markdown",
      "source": [
        "#### Chart - 14 - Correlation Heatmap"
      ],
      "metadata": {
        "id": "NC_X3p0fY2L0"
      }
    },
    {
      "cell_type": "code",
      "source": [
        "# Correlation Heatmap visualization code\n",
        "#finding corelation \n",
        "play_store_df_copy.corr()\n",
        "plt.figure(figsize = (15,8))\n",
        "sns.heatmap(play_store_df_copy.corr(), annot= True)\n",
        "plt.title('Corelation Heatmap for Playstore Data', size=20)"
      ],
      "metadata": {
        "id": "xyC9zolEZNRQ"
      },
      "execution_count": null,
      "outputs": []
    },
    {
      "cell_type": "markdown",
      "source": [
        "##### 1. Why did you pick the specific chart?"
      ],
      "metadata": {
        "id": "UV0SzAkaZNRQ"
      }
    },
    {
      "cell_type": "markdown",
      "source": [
        "This is quite useful to find the relation among numeric features"
      ],
      "metadata": {
        "id": "DVPuT8LYZNRQ"
      }
    },
    {
      "cell_type": "markdown",
      "source": [
        "##### 2. What is/are the insight(s) found from the chart?"
      ],
      "metadata": {
        "id": "YPEH6qLeZNRQ"
      }
    },
    {
      "cell_type": "markdown",
      "source": [
        "Here are some findings of this heatmap.\n",
        "1. \"Reviews\" and \"installs\" has strong +ve corelation. The reason behind this is obvious as no. of installtions increase no. of users will increase this will increase the chances of increasing the reviews. \n",
        "2. \"Price\" has a low -ve corelation with other features as the price increases the other will get a negative impact.\n",
        "\n"
      ],
      "metadata": {
        "id": "bfSqtnDqZNRR"
      }
    },
    {
      "cell_type": "markdown",
      "source": [
        "#### Chart - 15 - Pair Plot "
      ],
      "metadata": {
        "id": "q29F0dvdveiT"
      }
    },
    {
      "cell_type": "code",
      "source": [
        "# Pair Plot visualization code"
      ],
      "metadata": {
        "id": "o58-TEIhveiU"
      },
      "execution_count": null,
      "outputs": []
    },
    {
      "cell_type": "markdown",
      "source": [
        "##### 1. Why did you pick the specific chart?"
      ],
      "metadata": {
        "id": "EXh0U9oCveiU"
      }
    },
    {
      "cell_type": "markdown",
      "source": [
        "Answer Here."
      ],
      "metadata": {
        "id": "eMmPjTByveiU"
      }
    },
    {
      "cell_type": "markdown",
      "source": [
        "##### 2. What is/are the insight(s) found from the chart?"
      ],
      "metadata": {
        "id": "22aHeOlLveiV"
      }
    },
    {
      "cell_type": "markdown",
      "source": [
        "Answer Here"
      ],
      "metadata": {
        "id": "uPQ8RGwHveiV"
      }
    },
    {
      "cell_type": "markdown",
      "source": [
        "## **5. Solution to Business Objective**"
      ],
      "metadata": {
        "id": "JcMwzZxoAimU"
      }
    },
    {
      "cell_type": "markdown",
      "source": [
        "#### What do you suggest the client to achieve Business Objective ? \n",
        "Explain Briefly."
      ],
      "metadata": {
        "id": "8G2x9gOozGDZ"
      }
    },
    {
      "cell_type": "markdown",
      "source": [
        "Answer Here."
      ],
      "metadata": {
        "id": "pASKb0qOza21"
      }
    },
    {
      "cell_type": "markdown",
      "source": [
        "# **Conclusion**"
      ],
      "metadata": {
        "id": "gCX9965dhzqZ"
      }
    },
    {
      "cell_type": "markdown",
      "source": [
        "Write the conclusion here."
      ],
      "metadata": {
        "id": "Fjb1IsQkh3yE"
      }
    },
    {
      "cell_type": "markdown",
      "source": [
        "### ***Hurrah! You have successfully completed your EDA Capstone Project !!!***"
      ],
      "metadata": {
        "id": "gIfDvo9L0UH2"
      }
    }
  ]
}